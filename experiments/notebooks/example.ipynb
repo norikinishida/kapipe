{
 "cells": [
  {
   "cell_type": "code",
   "execution_count": 1,
   "id": "5dd0762b",
   "metadata": {},
   "outputs": [
    {
     "name": "stderr",
     "output_type": "stream",
     "text": [
      "/usr/local/lib/python3.10/dist-packages/tqdm/auto.py:21: TqdmWarning: IProgress not found. Please update jupyter and ipywidgets. See https://ipywidgets.readthedocs.io/en/stable/user_install.html\n",
      "  from .autonotebook import tqdm as notebook_tqdm\n"
     ]
    }
   ],
   "source": [
    "import kapipe\n",
    "from kapipe import utils\n",
    "from kapipe.pipelines import TripleExtractionPipeline"
   ]
  },
  {
   "cell_type": "markdown",
   "id": "95861ea5",
   "metadata": {},
   "source": [
    "### Example case"
   ]
  },
  {
   "cell_type": "code",
   "execution_count": 2,
   "id": "4ee4c3d5",
   "metadata": {},
   "outputs": [],
   "source": [
    "passage = {\n",
    "    \"title\": \"Alice's Life.\",\n",
    "    \"text\": (\n",
    "        \"Alice was born in Tokyo, but now she lives in New York. \"\n",
    "        \"She works at a technology company in Manhattan. \"\n",
    "        \"Her old friend Bob still lives in Tokyo and works as a teacher. \"\n",
    "        \"Alice and Bob studied together at the University of Tokyo. \"\n",
    "        \"Charlie, who was once Bob's roommate, decided to move to Paris after living in London. \"\n",
    "        \"Diana, who once shared a house with Charlie in London, now happily lives in Sydney and works at a hospital. \"\n",
    "        \"Although Alice and Diana live far apart, they remain close friends through frequent video calls.\"\n",
    "    )\n",
    "}\n"
   ]
  },
  {
   "cell_type": "markdown",
   "id": "c5d600cb",
   "metadata": {},
   "source": [
    "### Define your favorite entity types and relation labels"
   ]
  },
  {
   "cell_type": "code",
   "execution_count": 3,
   "id": "e9fcea12",
   "metadata": {},
   "outputs": [],
   "source": [
    "entity_types =[\n",
    "    {\n",
    "        \"entity_type\": \"Person\",\n",
    "        \"definition\": \"A human.\"\n",
    "    },\n",
    "    {\n",
    "        \"entity_type\": \"Location\",\n",
    "        \"definition\": \"A place.\"\n",
    "    }\n",
    "]"
   ]
  },
  {
   "cell_type": "code",
   "execution_count": 4,
   "id": "5a606faa",
   "metadata": {},
   "outputs": [],
   "source": [
    "relation_labels = [\n",
    "    {\n",
    "        \"relation_label\": \"lives_in\",\n",
    "        \"definition\": \"The subject person lives in the object location now.\"\n",
    "    },\n",
    "    {\n",
    "        \"relation_label\": \"born_in\",\n",
    "        \"definition\": \"The subject person was born in the object location.\"\n",
    "    },\n",
    "    {\n",
    "        \"relation_label\": \"works_at\",\n",
    "        \"definition\": \"The subject person works at the object organization or workplace.\"\n",
    "    },\n",
    "    {\n",
    "        \"relation_label\": \"studied_in\",\n",
    "        \"definition\": \"The subject person studied at the object educational institution.\"\n",
    "    },\n",
    "    {\n",
    "        \"relation_label\": \"friends_with\",\n",
    "        \"definition\": \"The subject person has a friendship relationship with the object person.\"\n",
    "    },\n",
    "    {\n",
    "        \"relation_label\": \"roommate_of\",\n",
    "        \"definition\": \"The subject person once shared a house or apartment with the object person.\"\n",
    "    }\n",
    "]"
   ]
  },
  {
   "cell_type": "markdown",
   "id": "5655e7a4",
   "metadata": {},
   "source": [
    "### Load Triple Extraction Pipeline for user-defined entity types and relation labels\n",
    "- NER: GPT-4o-mini with zero-shot NER prompting\n",
    "- ED-Retrieval: Dummy (assigning the lowercased mention string as the entity ID)\n",
    "- ED-Reranking: No reranking (seleting the top-1 candidate)\n",
    "- DocRE: GPT-4o-mini with zero-shot DocRE prompting"
   ]
  },
  {
   "cell_type": "code",
   "execution_count": 5,
   "id": "0957b76a",
   "metadata": {},
   "outputs": [],
   "source": [
    "pipe = TripleExtractionPipeline(\n",
    "    component_kwargs={\n",
    "        \"ner\": {\n",
    "            \"identifier\": \"gpt4omini_any\",\n",
    "            \"entity_types\": entity_types,\n",
    "        },\n",
    "        \"ed_retrieval\": {\n",
    "            \"identifier\": \"dummy_entity_retriever\"\n",
    "        },\n",
    "        \"ed_reranking\": {\n",
    "            \"identifier\": \"identical_entity_reranker\"\n",
    "        },\n",
    "        \"docre\": {\n",
    "            \"identifier\": \"gpt4omini_any\",\n",
    "            \"relation_labels\": relation_labels\n",
    "        }\n",
    "    }\n",
    ")"
   ]
  },
  {
   "cell_type": "markdown",
   "id": "50fd0306",
   "metadata": {},
   "source": [
    "### Convert the passage to Document object"
   ]
  },
  {
   "cell_type": "code",
   "execution_count": 6,
   "id": "8290ac3b",
   "metadata": {},
   "outputs": [],
   "source": [
    "document = pipe.chunker.convert_passage_to_document(passage=passage, doc_key=\"d1\", do_tokenize=True)"
   ]
  },
  {
   "cell_type": "code",
   "execution_count": 7,
   "id": "92dee472",
   "metadata": {},
   "outputs": [
    {
     "name": "stdout",
     "output_type": "stream",
     "text": [
      "{\n",
      "    \"doc_key\": \"d1\",\n",
      "    \"source_passage\": {\n",
      "        \"title\": \"Alice's Life.\",\n",
      "        \"text\": \"Alice was born in Tokyo, but now she lives in New York. She works at a technology company in Manhattan. Her old friend Bob still lives in Tokyo and works as a teacher. Alice and Bob studied together at the University of Tokyo. Charlie, who was once Bob's roommate, decided to move to Paris after living in London. Diana, who once shared a house with Charlie in London, now happily lives in Sydney and works at a hospital. Although Alice and Diana live far apart, they remain close friends through frequent video calls.\"\n",
      "    },\n",
      "    \"sentences\": [\n",
      "        \"Alice 's Life .\",\n",
      "        \"Alice was born in Tokyo , but now she lives in New York .\",\n",
      "        \"She works at a technology company in Manhattan .\",\n",
      "        \"Her old friend Bob still lives in Tokyo and works as a teacher .\",\n",
      "        \"Alice and Bob studied together at the University of Tokyo .\",\n",
      "        \"Charlie , who was once Bob 's roommate , decided to move to Paris after living in London .\",\n",
      "        \"Diana , who once shared a house with Charlie in London , now happily lives in Sydney and works at a hospital .\",\n",
      "        \"Although Alice and Diana live far apart , they remain close friends through frequent video calls .\"\n",
      "    ]\n",
      "}\n"
     ]
    }
   ],
   "source": [
    "print(utils.pretty_format_dict(document))"
   ]
  },
  {
   "cell_type": "markdown",
   "id": "ffe824d8",
   "metadata": {},
   "source": [
    "### Apply the Triple Extraction Pipeline"
   ]
  },
  {
   "cell_type": "code",
   "execution_count": 8,
   "id": "08926d49",
   "metadata": {},
   "outputs": [],
   "source": [
    "document = pipe.extract(document)"
   ]
  },
  {
   "cell_type": "markdown",
   "id": "b3102511",
   "metadata": {},
   "source": [
    "### Show the extraction results, prompts, and LLM responses"
   ]
  },
  {
   "cell_type": "code",
   "execution_count": 9,
   "id": "f9d561e8",
   "metadata": {},
   "outputs": [],
   "source": [
    "def markup_mentions(document):\n",
    "    mentions = document[\"mentions\"]\n",
    "    mentions = sorted(mentions, key=lambda m: (m[\"span\"][1] - m[\"span\"][0], m[\"span\"][0]))\n",
    "\n",
    "    # Concatenate the sentences and tokenize the text\n",
    "    text = \" \".join(document[\"sentences\"])\n",
    "    tokens = text.split(\" \")\n",
    "\n",
    "    # Mark up the beginning/ending tokens of the mentions with entity types\n",
    "    for m_i, entry in enumerate(mentions):\n",
    "        begin_i, end_i = entry[\"span\"]\n",
    "        etype = entry[\"entity_type\"]\n",
    "        tokens[begin_i] = f\"{{{tokens[begin_i]}\"\n",
    "        tokens[end_i] = f\"{tokens[end_i]}:{etype}}}\"\n",
    "        \n",
    "    text = \" \".join(tokens)\n",
    "    return text\n",
    "\n",
    "def get_triples(document):\n",
    "    mentions = document[\"mentions\"]\n",
    "    entities = document[\"entities\"]\n",
    "    relations = document[\"relations\"]\n",
    "    \n",
    "    triples = []\n",
    "    for entry in relations:\n",
    "        subject_idx = entry[\"arg1\"]\n",
    "        object_idx = entry[\"arg2\"]\n",
    "        relation = entry[\"relation\"]\n",
    "\n",
    "        subject_id = entities[subject_idx][\"entity_id\"].upper()\n",
    "        object_id = entities[object_idx][\"entity_id\"].upper()\n",
    "        #subject_names = \"|\".join(entities[subject_idx][\"mention_names\"])\n",
    "        #object_names = \"|\".join(entities[object_idx][\"mention_names\"])\n",
    "\n",
    "        triple = (subject_id, relation, object_id)\n",
    "        #triple = (subject_names, relation, object_names)\n",
    "        triples.append(triple)\n",
    "    \n",
    "    return triples"
   ]
  },
  {
   "cell_type": "code",
   "execution_count": 10,
   "id": "f546dd12",
   "metadata": {},
   "outputs": [
    {
     "name": "stdout",
     "output_type": "stream",
     "text": [
      "{Alice:Person} 's Life . {Alice:Person} was born in {Tokyo:Location} , but now she lives in {New York:Location} . She works at a technology company in {Manhattan:Location} . Her old friend {Bob:Person} still lives in {Tokyo:Location} and works as a teacher . {Alice:Person} and {Bob:Person} studied together at the {University of {Tokyo:Location}:Location} . {Charlie:Person} , who was once {Bob:Person} 's roommate , decided to move to {Paris:Location} after living in {London:Location} . {Diana:Person} , who once shared a house with {Charlie:Person} in {London:Location} , now happily lives in {Sydney:Location} and works at a hospital . Although {Alice:Person} and {Diana:Person} live far apart , they remain close friends through frequent video calls .\n"
     ]
    }
   ],
   "source": [
    "print(markup_mentions(document))"
   ]
  },
  {
   "cell_type": "code",
   "execution_count": 11,
   "id": "990b8f7a",
   "metadata": {},
   "outputs": [
    {
     "name": "stdout",
     "output_type": "stream",
     "text": [
      "[\n",
      "    [\n",
      "        \"ALICE\",\n",
      "        \"born_in\",\n",
      "        \"TOKYO\"\n",
      "    ],\n",
      "    [\n",
      "        \"ALICE\",\n",
      "        \"lives_in\",\n",
      "        \"NEW YORK\"\n",
      "    ],\n",
      "    [\n",
      "        \"ALICE\",\n",
      "        \"works_at\",\n",
      "        \"MANHATTAN\"\n",
      "    ],\n",
      "    [\n",
      "        \"ALICE\",\n",
      "        \"studied_in\",\n",
      "        \"UNIVERSITY OF TOKYO\"\n",
      "    ],\n",
      "    [\n",
      "        \"ALICE\",\n",
      "        \"friends_with\",\n",
      "        \"DIANA\"\n",
      "    ],\n",
      "    [\n",
      "        \"BOB\",\n",
      "        \"lives_in\",\n",
      "        \"TOKYO\"\n",
      "    ],\n",
      "    [\n",
      "        \"BOB\",\n",
      "        \"works_at\",\n",
      "        \"UNIVERSITY OF TOKYO\"\n",
      "    ],\n",
      "    [\n",
      "        \"CHARLIE\",\n",
      "        \"roommate_of\",\n",
      "        \"BOB\"\n",
      "    ],\n",
      "    [\n",
      "        \"DIANA\",\n",
      "        \"roommate_of\",\n",
      "        \"CHARLIE\"\n",
      "    ],\n",
      "    [\n",
      "        \"DIANA\",\n",
      "        \"works_at\",\n",
      "        \"LONDON\"\n",
      "    ],\n",
      "    [\n",
      "        \"DIANA\",\n",
      "        \"lives_in\",\n",
      "        \"SYDNEY\"\n",
      "    ]\n",
      "]\n"
     ]
    }
   ],
   "source": [
    "print(utils.pretty_format_dict(get_triples(document)))"
   ]
  },
  {
   "cell_type": "code",
   "execution_count": 12,
   "id": "6a17e8e1",
   "metadata": {},
   "outputs": [
    {
     "name": "stdout",
     "output_type": "stream",
     "text": [
      "### Task\n",
      "\n",
      "You are given a piece of text.\n",
      "\n",
      "Your task is to:\n",
      "\n",
      "1. **Identify all entity mentions** in the text — short spans that refer to specific concepts or instances.\n",
      "2. **Assign an appropriate entity type** to each mention, selecting from the predefined set below.\n",
      "\n",
      "### Guidelines\n",
      "\n",
      "- Each entity mention must be an **exact span** from the original text — do **not paraphrase, shorten, or extend** it.\n",
      "- Assign **only one type** per mention.\n",
      "- Choose from the following predefined entity types:\n",
      "\n",
      "- Person: A human.\n",
      "- Location: A place.\n",
      "\n",
      "- If no entities are present, output nothing.\n",
      "\n",
      "### Output Format\n",
      "\n",
      "For each identified entity mention, output a line in this format:\n",
      "\n",
      "- Mention Text | Entity Type\n",
      "\n",
      "Use bullet points (`-`) for each line. Example:\n",
      "\n",
      "- Aspirin | Chemical  \n",
      "- breast cancer | Disease  \n",
      "- light therapy | Treatment\n",
      "\n",
      "### Test Case\n",
      "\n",
      "Now, identify all entity mentions in the following text and assign them appropriate types.\n",
      "\n",
      "Text: Alice 's Life . Alice was born in Tokyo , but now she lives in New York . She works at a technology company in Manhattan . Her old friend Bob still lives in Tokyo and works as a teacher . Alice and Bob studied together at the University of Tokyo . Charlie , who was once Bob 's roommate , decided to move to Paris after living in London . Diana , who once shared a house with Charlie in London , now happily lives in Sydney and works at a hospital . Although Alice and Diana live far apart , they remain close friends through frequent video calls .\n",
      "\n",
      "Provide the output in the bullet-point format specified above.\n",
      "===================\n",
      "- Alice | Person  \n",
      "- Tokyo | Location  \n",
      "- New York | Location  \n",
      "- Manhattan | Location  \n",
      "- Bob | Person  \n",
      "- Tokyo | Location  \n",
      "- University of Tokyo | Location  \n",
      "- Charlie | Person  \n",
      "- Paris | Location  \n",
      "- London | Location  \n",
      "- Diana | Person  \n",
      "- London | Location  \n",
      "- Sydney | Location  \n"
     ]
    }
   ],
   "source": [
    "print(document[\"ner_prompt\"])\n",
    "print(\"===================\")\n",
    "print(document[\"ner_generated_text\"])"
   ]
  },
  {
   "cell_type": "code",
   "execution_count": 13,
   "id": "b083a089",
   "metadata": {},
   "outputs": [
    {
     "name": "stdout",
     "output_type": "stream",
     "text": [
      "### Task\n",
      "\n",
      "You are given a piece of text and a list of **detected entities**, each mapped to a concept in the original knowledge base.\n",
      "\n",
      "Your task is to:\n",
      "\n",
      "1. **Identify relationships** between these entities based on the **context of the text**.\n",
      "2. For each entity pair that holds a relation, assign the most appropriate **relationship label** from the predefined set below.\n",
      "\n",
      "### Guidelines\n",
      "\n",
      "- Use the **full document context** to decide whether a relationship exists between a pair of entities.\n",
      "- You must select the relationship label from the following predefined set:\n",
      "\n",
      "- lives_in: The subject person lives in the object location now.\n",
      "- born_in: The subject person was born in the object location.\n",
      "- works_at: The subject person works at the object organization or workplace.\n",
      "- studied_in: The subject person studied at the object educational institution.\n",
      "- friends_with: The subject person has a friendship relationship with the object person.\n",
      "- roommate_of: The subject person once shared a house or apartment with the object person.\n",
      "\n",
      "- If **no meaningful relation** exists between two entities, do **not output** anything for that pair.\n",
      "- Each output must use the **entity IDs** of the subject and object entities, **not** their surface forms or canonical names.\n",
      "\n",
      "### Output Format\n",
      "\n",
      "For each identified relationship, output a line in this format:\n",
      "\n",
      "- Subject Entity ID | Relationship Label | Object Entity ID\n",
      "\n",
      "Use bullet points (`-`) for each line. Example:\n",
      "\n",
      "- Entity2 | associated_with | Entity3\n",
      "- Entity5 | regulates | Entity7\n",
      "\n",
      "### Test Case\n",
      "\n",
      "Now, identify all valid relationships between the detected entities in the following text.\n",
      "\n",
      "Text: Alice 's Life . Alice was born in Tokyo , but now she lives in New York . She works at a technology company in Manhattan . Her old friend Bob still lives in Tokyo and works as a teacher . Alice and Bob studied together at the University of Tokyo . Charlie , who was once Bob 's roommate , decided to move to Paris after living in London . Diana , who once shared a house with Charlie in London , now happily lives in Sydney and works at a hospital . Although Alice and Diana live far apart , they remain close friends through frequent video calls .\n",
      "Entities:\n",
      "- Entity0: \"Alice\" (Person)\n",
      "- Entity1: \"Tokyo\" (Location)\n",
      "- Entity2: \"New York\" (Location)\n",
      "- Entity3: \"Manhattan\" (Location)\n",
      "- Entity4: \"Bob\" (Person)\n",
      "- Entity5: \"University of Tokyo\" (Location)\n",
      "- Entity6: \"Charlie\" (Person)\n",
      "- Entity7: \"Paris\" (Location)\n",
      "- Entity8: \"London\" (Location)\n",
      "- Entity9: \"Diana\" (Person)\n",
      "- Entity10: \"Sydney\" (Location)\n",
      "\n",
      "Provide the output in the bullet-point format specified above.\n",
      "===================\n",
      "- Entity0 | born_in | Entity1\n",
      "- Entity0 | lives_in | Entity2\n",
      "- Entity0 | works_at | Entity3\n",
      "- Entity4 | lives_in | Entity1\n",
      "- Entity4 | works_at | Entity5\n",
      "- Entity0 | studied_in | Entity5\n",
      "- Entity6 | roommate_of | Entity4\n",
      "- Entity9 | roommate_of | Entity6\n",
      "- Entity9 | lives_in | Entity10\n",
      "- Entity9 | works_at | Entity8\n",
      "- Entity0 | friends_with | Entity9\n"
     ]
    }
   ],
   "source": [
    "print(document[\"docre_prompt\"])\n",
    "print(\"===================\")\n",
    "print(document[\"docre_generated_text\"])"
   ]
  },
  {
   "cell_type": "markdown",
   "id": "0ae544e9",
   "metadata": {},
   "source": [
    "### Apply Graph Constructor"
   ]
  },
  {
   "cell_type": "code",
   "execution_count": 14,
   "id": "2c27f442",
   "metadata": {},
   "outputs": [
    {
     "name": "stderr",
     "output_type": "stream",
     "text": [
      "Processing ./temp_documents.json: 100%|█████████████████████████████████████████| 1/1 [00:00<00:00, 2884.67it/s]\n"
     ]
    }
   ],
   "source": [
    "from kapipe.graph_construction import GraphConstructor\n",
    "\n",
    "constructor = GraphConstructor()\n",
    "\n",
    "# Temporally save the triple extraction results (documents)\n",
    "utils.write_json(\"./temp_documents.json\", [document])\n",
    "\n",
    "graph = constructor.construct_knowledge_graph(\n",
    "    path_documents_list=[\"./temp_documents.json\"],\n",
    "    path_additional_triples=None,\n",
    "    path_entity_dict=None\n",
    ")\n"
   ]
  },
  {
   "cell_type": "markdown",
   "id": "be47a497",
   "metadata": {},
   "source": [
    "### Apply Community Clustering"
   ]
  },
  {
   "cell_type": "code",
   "execution_count": 15,
   "id": "560dab79",
   "metadata": {},
   "outputs": [],
   "source": [
    "from kapipe.community_clustering import NeighborhoodAggregation\n",
    "\n",
    "clusterer = NeighborhoodAggregation()\n",
    "\n",
    "communities = clusterer.cluster_communities(graph=graph)"
   ]
  },
  {
   "cell_type": "code",
   "execution_count": 16,
   "id": "3e92e244",
   "metadata": {},
   "outputs": [
    {
     "name": "stdout",
     "output_type": "stream",
     "text": [
      "[\n",
      "    {\n",
      "        \"community_id\": \"ROOT\",\n",
      "        \"nodes\": null,\n",
      "        \"level\": -1,\n",
      "        \"parent_community_id\": null,\n",
      "        \"child_community_ids\": [\n",
      "            \"Community(alice)\",\n",
      "            \"Community(tokyo)\",\n",
      "            \"Community(new york)\",\n",
      "            \"Community(manhattan)\",\n",
      "            \"Community(university of tokyo)\",\n",
      "            \"Community(diana)\",\n",
      "            \"Community(bob)\",\n",
      "            \"Community(charlie)\",\n",
      "            \"Community(london)\",\n",
      "            \"Community(sydney)\"\n",
      "        ]\n",
      "    },\n",
      "    {\n",
      "        \"community_id\": \"Community(alice)\",\n",
      "        \"nodes\": [\n",
      "            \"alice\",\n",
      "            \"university of tokyo\",\n",
      "            \"diana\",\n",
      "            \"manhattan\",\n",
      "            \"new york\",\n",
      "            \"tokyo\"\n",
      "        ],\n",
      "        \"level\": 0,\n",
      "        \"parent_community_id\": \"ROOT\",\n",
      "        \"child_community_ids\": []\n",
      "    },\n",
      "    {\n",
      "        \"community_id\": \"Community(tokyo)\",\n",
      "        \"nodes\": [\n",
      "            \"tokyo\",\n",
      "            \"bob\",\n",
      "            \"alice\"\n",
      "        ],\n",
      "        \"level\": 0,\n",
      "        \"parent_community_id\": \"ROOT\",\n",
      "        \"child_community_ids\": []\n",
      "    },\n",
      "    {\n",
      "        \"community_id\": \"Community(new york)\",\n",
      "        \"nodes\": [\n",
      "            \"new york\",\n",
      "            \"alice\"\n",
      "        ],\n",
      "        \"level\": 0,\n",
      "        \"parent_community_id\": \"ROOT\",\n",
      "        \"child_community_ids\": []\n",
      "    },\n",
      "    {\n",
      "        \"community_id\": \"Community(manhattan)\",\n",
      "        \"nodes\": [\n",
      "            \"manhattan\",\n",
      "            \"alice\"\n",
      "        ],\n",
      "        \"level\": 0,\n",
      "        \"parent_community_id\": \"ROOT\",\n",
      "        \"child_community_ids\": []\n",
      "    },\n",
      "    {\n",
      "        \"community_id\": \"Community(university of tokyo)\",\n",
      "        \"nodes\": [\n",
      "            \"university of tokyo\",\n",
      "            \"bob\",\n",
      "            \"alice\"\n",
      "        ],\n",
      "        \"level\": 0,\n",
      "        \"parent_community_id\": \"ROOT\",\n",
      "        \"child_community_ids\": []\n",
      "    },\n",
      "    {\n",
      "        \"community_id\": \"Community(diana)\",\n",
      "        \"nodes\": [\n",
      "            \"diana\",\n",
      "            \"charlie\",\n",
      "            \"alice\",\n",
      "            \"london\",\n",
      "            \"sydney\"\n",
      "        ],\n",
      "        \"level\": 0,\n",
      "        \"parent_community_id\": \"ROOT\",\n",
      "        \"child_community_ids\": []\n",
      "    },\n",
      "    {\n",
      "        \"community_id\": \"Community(bob)\",\n",
      "        \"nodes\": [\n",
      "            \"bob\",\n",
      "            \"university of tokyo\",\n",
      "            \"charlie\",\n",
      "            \"tokyo\"\n",
      "        ],\n",
      "        \"level\": 0,\n",
      "        \"parent_community_id\": \"ROOT\",\n",
      "        \"child_community_ids\": []\n",
      "    },\n",
      "    {\n",
      "        \"community_id\": \"Community(charlie)\",\n",
      "        \"nodes\": [\n",
      "            \"charlie\",\n",
      "            \"bob\",\n",
      "            \"diana\"\n",
      "        ],\n",
      "        \"level\": 0,\n",
      "        \"parent_community_id\": \"ROOT\",\n",
      "        \"child_community_ids\": []\n",
      "    },\n",
      "    {\n",
      "        \"community_id\": \"Community(london)\",\n",
      "        \"nodes\": [\n",
      "            \"london\",\n",
      "            \"diana\"\n",
      "        ],\n",
      "        \"level\": 0,\n",
      "        \"parent_community_id\": \"ROOT\",\n",
      "        \"child_community_ids\": []\n",
      "    },\n",
      "    {\n",
      "        \"community_id\": \"Community(sydney)\",\n",
      "        \"nodes\": [\n",
      "            \"sydney\",\n",
      "            \"diana\"\n",
      "        ],\n",
      "        \"level\": 0,\n",
      "        \"parent_community_id\": \"ROOT\",\n",
      "        \"child_community_ids\": []\n",
      "    }\n",
      "]\n"
     ]
    }
   ],
   "source": [
    "print(utils.pretty_format_dict(communities))"
   ]
  },
  {
   "cell_type": "markdown",
   "id": "0f4ce211",
   "metadata": {},
   "source": [
    "### Apply Report Generation"
   ]
  },
  {
   "cell_type": "code",
   "execution_count": 17,
   "id": "682245e9",
   "metadata": {},
   "outputs": [],
   "source": [
    "from kapipe.report_generation import TemplateBasedReportGenerator\n",
    "\n",
    "generator = TemplateBasedReportGenerator()\n",
    "\n",
    "generator.generate_community_reports(\n",
    "    graph=graph,\n",
    "    communities=communities,\n",
    "    path_output=\"./temp_reports.jsonl\"\n",
    ")"
   ]
  },
  {
   "cell_type": "markdown",
   "id": "e6ec03b1",
   "metadata": {},
   "source": [
    "### Apply Chunking"
   ]
  },
  {
   "cell_type": "code",
   "execution_count": 18,
   "id": "55adbd2c",
   "metadata": {},
   "outputs": [
    {
     "name": "stdout",
     "output_type": "stream",
     "text": [
      "FROM:\n",
      "{'title': 'The primary entities in this community are: alice, tokyo, new york', 'text': 'This community contains the following entities:\\n- alice | Person | NO DESCRIPTION.\\n- university of tokyo | Location | NO DESCRIPTION.\\n- diana | Person | NO DESCRIPTION.\\n- manhattan | Location | NO DESCRIPTION.\\n- new york | Location | NO DESCRIPTION.\\n- tokyo | Location | NO DESCRIPTION.\\nThe relationships between the entities are as follows:\\n- alice | born_in | tokyo\\n- alice | lives_in | new york\\n- alice | works_at | manhattan\\n- alice | studied_in | university of tokyo\\n- alice | friends_with | diana', 'community_id': 'Community(alice)', 'nodes': ['alice', 'university of tokyo', 'diana', 'manhattan', 'new york', 'tokyo'], 'level': 0, 'parent_community_id': 'ROOT', 'child_community_ids': []}\n",
      "TO:\n",
      "{'title': 'The primary entities in this community are: alice, tokyo, new york', 'text': 'This community contains the following entities:\\n- alice | Person | NO DESCRIPTION.\\n- university of tokyo | Location | NO DESCRIPTION.\\n- diana | Person | NO DESCRIPTION.\\n- manhattan | Location | NO DESCRIPTION.\\n- new york | Location | NO DESCRIPTION.\\n- tokyo | Location | NO DESCRIPTION.\\nThe relationships between the entities are as follows:\\n- alice | born_in | tokyo\\n- alice | lives_in | new york\\n- alice | works_at | manhattan\\n- alice | studied_in | university of tokyo\\n- alice | friends_with | diana', 'community_id': 'Community(alice)', 'nodes': ['alice', 'university of tokyo', 'diana', 'manhattan', 'new york', 'tokyo'], 'level': 0, 'parent_community_id': 'ROOT', 'child_community_ids': []}\n",
      "FROM:\n",
      "{'title': 'The primary entities in this community are: tokyo, alice, bob', 'text': 'This community contains the following entities:\\n- tokyo | Location | NO DESCRIPTION.\\n- bob | Person | NO DESCRIPTION.\\n- alice | Person | NO DESCRIPTION.\\nThe relationships between the entities are as follows:\\n- bob | lives_in | tokyo\\n- alice | born_in | tokyo', 'community_id': 'Community(tokyo)', 'nodes': ['tokyo', 'bob', 'alice'], 'level': 0, 'parent_community_id': 'ROOT', 'child_community_ids': []}\n",
      "TO:\n",
      "{'title': 'The primary entities in this community are: tokyo, alice, bob', 'text': 'This community contains the following entities:\\n- tokyo | Location | NO DESCRIPTION.\\n- bob | Person | NO DESCRIPTION.\\n- alice | Person | NO DESCRIPTION.\\nThe relationships between the entities are as follows:\\n- bob | lives_in | tokyo\\n- alice | born_in | tokyo', 'community_id': 'Community(tokyo)', 'nodes': ['tokyo', 'bob', 'alice'], 'level': 0, 'parent_community_id': 'ROOT', 'child_community_ids': []}\n",
      "FROM:\n",
      "{'title': 'The primary entities in this community are: alice, new york', 'text': 'This community contains the following entities:\\n- new york | Location | NO DESCRIPTION.\\n- alice | Person | NO DESCRIPTION.\\nThe relationships between the entities are as follows:\\n- alice | lives_in | new york', 'community_id': 'Community(new york)', 'nodes': ['new york', 'alice'], 'level': 0, 'parent_community_id': 'ROOT', 'child_community_ids': []}\n",
      "TO:\n",
      "{'title': 'The primary entities in this community are: alice, new york', 'text': 'This community contains the following entities:\\n- new york | Location | NO DESCRIPTION.\\n- alice | Person | NO DESCRIPTION.\\nThe relationships between the entities are as follows:\\n- alice | lives_in | new york', 'community_id': 'Community(new york)', 'nodes': ['new york', 'alice'], 'level': 0, 'parent_community_id': 'ROOT', 'child_community_ids': []}\n",
      "FROM:\n",
      "{'title': 'The primary entities in this community are: alice, manhattan', 'text': 'This community contains the following entities:\\n- manhattan | Location | NO DESCRIPTION.\\n- alice | Person | NO DESCRIPTION.\\nThe relationships between the entities are as follows:\\n- alice | works_at | manhattan', 'community_id': 'Community(manhattan)', 'nodes': ['manhattan', 'alice'], 'level': 0, 'parent_community_id': 'ROOT', 'child_community_ids': []}\n",
      "TO:\n",
      "{'title': 'The primary entities in this community are: alice, manhattan', 'text': 'This community contains the following entities:\\n- manhattan | Location | NO DESCRIPTION.\\n- alice | Person | NO DESCRIPTION.\\nThe relationships between the entities are as follows:\\n- alice | works_at | manhattan', 'community_id': 'Community(manhattan)', 'nodes': ['manhattan', 'alice'], 'level': 0, 'parent_community_id': 'ROOT', 'child_community_ids': []}\n",
      "FROM:\n",
      "{'title': 'The primary entities in this community are: university of tokyo, alice, bob', 'text': 'This community contains the following entities:\\n- university of tokyo | Location | NO DESCRIPTION.\\n- bob | Person | NO DESCRIPTION.\\n- alice | Person | NO DESCRIPTION.\\nThe relationships between the entities are as follows:\\n- bob | works_at | university of tokyo\\n- alice | studied_in | university of tokyo', 'community_id': 'Community(university of tokyo)', 'nodes': ['university of tokyo', 'bob', 'alice'], 'level': 0, 'parent_community_id': 'ROOT', 'child_community_ids': []}\n",
      "TO:\n",
      "{'title': 'The primary entities in this community are: university of tokyo, alice, bob', 'text': 'This community contains the following entities:\\n- university of tokyo | Location | NO DESCRIPTION.\\n- bob | Person | NO DESCRIPTION.\\n- alice | Person | NO DESCRIPTION.\\nThe relationships between the entities are as follows:\\n- bob | works_at | university of tokyo\\n- alice | studied_in | university of tokyo', 'community_id': 'Community(university of tokyo)', 'nodes': ['university of tokyo', 'bob', 'alice'], 'level': 0, 'parent_community_id': 'ROOT', 'child_community_ids': []}\n",
      "FROM:\n",
      "{'title': 'The primary entities in this community are: diana, alice, charlie', 'text': 'This community contains the following entities:\\n- diana | Person | NO DESCRIPTION.\\n- charlie | Person | NO DESCRIPTION.\\n- alice | Person | NO DESCRIPTION.\\n- london | Location | NO DESCRIPTION.\\n- sydney | Location | NO DESCRIPTION.\\nThe relationships between the entities are as follows:\\n- diana | roommate_of | charlie\\n- diana | works_at | london\\n- diana | lives_in | sydney\\n- alice | friends_with | diana', 'community_id': 'Community(diana)', 'nodes': ['diana', 'charlie', 'alice', 'london', 'sydney'], 'level': 0, 'parent_community_id': 'ROOT', 'child_community_ids': []}\n",
      "TO:\n",
      "{'title': 'The primary entities in this community are: diana, alice, charlie', 'text': 'This community contains the following entities:\\n- diana | Person | NO DESCRIPTION.\\n- charlie | Person | NO DESCRIPTION.\\n- alice | Person | NO DESCRIPTION.\\n- london | Location | NO DESCRIPTION.\\n- sydney | Location | NO DESCRIPTION.\\nThe relationships between the entities are as follows:\\n- diana | roommate_of | charlie\\n- diana | works_at | london\\n- diana | lives_in | sydney\\n- alice | friends_with | diana', 'community_id': 'Community(diana)', 'nodes': ['diana', 'charlie', 'alice', 'london', 'sydney'], 'level': 0, 'parent_community_id': 'ROOT', 'child_community_ids': []}\n",
      "FROM:\n",
      "{'title': 'The primary entities in this community are: bob, university of tokyo, charlie', 'text': 'This community contains the following entities:\\n- bob | Person | NO DESCRIPTION.\\n- university of tokyo | Location | NO DESCRIPTION.\\n- charlie | Person | NO DESCRIPTION.\\n- tokyo | Location | NO DESCRIPTION.\\nThe relationships between the entities are as follows:\\n- bob | lives_in | tokyo\\n- bob | works_at | university of tokyo\\n- charlie | roommate_of | bob', 'community_id': 'Community(bob)', 'nodes': ['bob', 'university of tokyo', 'charlie', 'tokyo'], 'level': 0, 'parent_community_id': 'ROOT', 'child_community_ids': []}\n",
      "TO:\n",
      "{'title': 'The primary entities in this community are: bob, university of tokyo, charlie', 'text': 'This community contains the following entities:\\n- bob | Person | NO DESCRIPTION.\\n- university of tokyo | Location | NO DESCRIPTION.\\n- charlie | Person | NO DESCRIPTION.\\n- tokyo | Location | NO DESCRIPTION.\\nThe relationships between the entities are as follows:\\n- bob | lives_in | tokyo\\n- bob | works_at | university of tokyo\\n- charlie | roommate_of | bob', 'community_id': 'Community(bob)', 'nodes': ['bob', 'university of tokyo', 'charlie', 'tokyo'], 'level': 0, 'parent_community_id': 'ROOT', 'child_community_ids': []}\n",
      "FROM:\n",
      "{'title': 'The primary entities in this community are: charlie, bob, diana', 'text': 'This community contains the following entities:\\n- charlie | Person | NO DESCRIPTION.\\n- bob | Person | NO DESCRIPTION.\\n- diana | Person | NO DESCRIPTION.\\nThe relationships between the entities are as follows:\\n- charlie | roommate_of | bob\\n- diana | roommate_of | charlie', 'community_id': 'Community(charlie)', 'nodes': ['charlie', 'bob', 'diana'], 'level': 0, 'parent_community_id': 'ROOT', 'child_community_ids': []}\n",
      "TO:\n",
      "{'title': 'The primary entities in this community are: charlie, bob, diana', 'text': 'This community contains the following entities:\\n- charlie | Person | NO DESCRIPTION.\\n- bob | Person | NO DESCRIPTION.\\n- diana | Person | NO DESCRIPTION.\\nThe relationships between the entities are as follows:\\n- charlie | roommate_of | bob\\n- diana | roommate_of | charlie', 'community_id': 'Community(charlie)', 'nodes': ['charlie', 'bob', 'diana'], 'level': 0, 'parent_community_id': 'ROOT', 'child_community_ids': []}\n",
      "FROM:\n",
      "{'title': 'The primary entities in this community are: diana, london', 'text': 'This community contains the following entities:\\n- london | Location | NO DESCRIPTION.\\n- diana | Person | NO DESCRIPTION.\\nThe relationships between the entities are as follows:\\n- diana | works_at | london', 'community_id': 'Community(london)', 'nodes': ['london', 'diana'], 'level': 0, 'parent_community_id': 'ROOT', 'child_community_ids': []}\n",
      "TO:\n",
      "{'title': 'The primary entities in this community are: diana, london', 'text': 'This community contains the following entities:\\n- london | Location | NO DESCRIPTION.\\n- diana | Person | NO DESCRIPTION.\\nThe relationships between the entities are as follows:\\n- diana | works_at | london', 'community_id': 'Community(london)', 'nodes': ['london', 'diana'], 'level': 0, 'parent_community_id': 'ROOT', 'child_community_ids': []}\n",
      "FROM:\n",
      "{'title': 'The primary entities in this community are: diana, sydney', 'text': 'This community contains the following entities:\\n- sydney | Location | NO DESCRIPTION.\\n- diana | Person | NO DESCRIPTION.\\nThe relationships between the entities are as follows:\\n- diana | lives_in | sydney', 'community_id': 'Community(sydney)', 'nodes': ['sydney', 'diana'], 'level': 0, 'parent_community_id': 'ROOT', 'child_community_ids': []}\n",
      "TO:\n",
      "{'title': 'The primary entities in this community are: diana, sydney', 'text': 'This community contains the following entities:\\n- sydney | Location | NO DESCRIPTION.\\n- diana | Person | NO DESCRIPTION.\\nThe relationships between the entities are as follows:\\n- diana | lives_in | sydney', 'community_id': 'Community(sydney)', 'nodes': ['sydney', 'diana'], 'level': 0, 'parent_community_id': 'ROOT', 'child_community_ids': []}\n"
     ]
    }
   ],
   "source": [
    "from kapipe.chunking import Chunker\n",
    "import json\n",
    "\n",
    "chunker = Chunker(model_name=\"en_core_web_sm\")\n",
    "\n",
    "with open(\"./temp_reports_chunked.jsonl\", \"w\") as fout:\n",
    "    with open(\"./temp_reports.jsonl\") as fin:\n",
    "        for line in fin:\n",
    "            # Load the passage\n",
    "            passage = json.loads(line.strip())\n",
    "            print(\"FROM:\")\n",
    "            print(passage)\n",
    "            # Split the passage into chunked passages\n",
    "            chunked_passages = chunker.split_passage_to_chunked_passages(\n",
    "                passage=passage,\n",
    "                window_size=100\n",
    "            )\n",
    "            # Save the chunked passages\n",
    "            print(\"TO:\")\n",
    "            for chunked_passage in chunked_passages:\n",
    "                print(passage)\n",
    "                json_str = json.dumps(chunked_passage)\n",
    "                fout.write(json_str + \"\\n\")"
   ]
  },
  {
   "cell_type": "markdown",
   "id": "3b4c5c09",
   "metadata": {},
   "source": [
    "### Apply Passage Retrieval (Indexing)"
   ]
  },
  {
   "cell_type": "code",
   "execution_count": 19,
   "id": "cdba0e9c",
   "metadata": {},
   "outputs": [
    {
     "name": "stdout",
     "output_type": "stream",
     "text": [
      "Number of passages: 10\n"
     ]
    }
   ],
   "source": [
    "from kapipe.passage_retrieval import Contriever\n",
    "import os\n",
    "\n",
    "index_root = \"./temp_index_root\"\n",
    "index_name = \"temp_index_name\"\n",
    "\n",
    "# Create a directory to store the indexing result\n",
    "utils.mkdir(\"./temp_index_root/contriever\")\n",
    "utils.mkdir(\"./temp_index_root/contriever/indexes/temp_index_name\")\n",
    "\n",
    "# Load the chunked passages\n",
    "passages = []\n",
    "for line in open(\"./temp_reports_chunked.jsonl\"):\n",
    "    passage = json.loads(line.strip())\n",
    "    passages.append(passage)\n",
    "print(f\"Number of passages: {len(passages)}\")\n",
    "\n",
    "# Initialize the retriever\n",
    "retriever = Contriever(\n",
    "    max_passage_length=512,\n",
    "    pooling_method=\"average\",\n",
    "    normalize=False,\n",
    "    gpu_id=0,\n",
    "    metric=\"inner-product\"\n",
    ")\n",
    "\n",
    "# Build index\n",
    "retriever.make_index(\n",
    "    passages=passages,\n",
    "    index_root=index_root,\n",
    "    index_name=index_name\n",
    ")"
   ]
  },
  {
   "cell_type": "markdown",
   "id": "08a7e18e",
   "metadata": {},
   "source": [
    "### Example questions"
   ]
  },
  {
   "cell_type": "code",
   "execution_count": 20,
   "id": "6c08a530",
   "metadata": {},
   "outputs": [],
   "source": [
    "questions = [\n",
    "    {\n",
    "        \"question_key\": \"q1\",\n",
    "        \"question\": \"Which city does Alice currently live in, and where was she born?\"\n",
    "    },\n",
    "    {\n",
    "        \"question_key\": \"q2\",\n",
    "        \"question\": \"Who once shared a house with Charlie in London, and where does that person work now?\"\n",
    "    }\n",
    "]\n"
   ]
  },
  {
   "cell_type": "markdown",
   "id": "57aca1aa",
   "metadata": {},
   "source": [
    "### Apply Passage Retrieval (Search)"
   ]
  },
  {
   "cell_type": "code",
   "execution_count": 21,
   "id": "b02421d8",
   "metadata": {},
   "outputs": [],
   "source": [
    "# Retrieve top-2 chunked passages for each question (query)\n",
    "retrieved_passages = retriever.search(\n",
    "    queries=[q[\"question\"] for q in questions],\n",
    "    top_k=2\n",
    ")\n",
    "\n",
    "# Convert the retrieved passages to Contexts format (required by QA component)\n",
    "contexts = []\n",
    "for q, p in zip(questions, retrieved_passages):\n",
    "    c = {\n",
    "        \"question_key\": q[\"question_key\"],\n",
    "        \"contexts\": p\n",
    "    }\n",
    "    contexts.append(c)"
   ]
  },
  {
   "cell_type": "markdown",
   "id": "fd91b68e",
   "metadata": {},
   "source": [
    "### Apply Question Answering (with retrieved contexts)"
   ]
  },
  {
   "cell_type": "code",
   "execution_count": 22,
   "id": "709c6d58",
   "metadata": {},
   "outputs": [],
   "source": [
    "from kapipe.qa import QA\n",
    "\n",
    "answerer = QA(identifier=\"gpt4o_with_context\")\n",
    "\n",
    "answers = []\n",
    "for q, c in zip(questions, contexts):\n",
    "    a = answerer.answer(question=q, contexts_for_question=c)\n",
    "    answers.append(a)"
   ]
  },
  {
   "cell_type": "markdown",
   "id": "ba8216a6",
   "metadata": {},
   "source": [
    "### Show the QA results, prompts, and LLM response"
   ]
  },
  {
   "cell_type": "code",
   "execution_count": 23,
   "id": "652d451b",
   "metadata": {},
   "outputs": [],
   "source": [
    "def show_qa_results(answers):\n",
    "    for answer in answers:\n",
    "        print(f\"Question Key: {answer['question_key']}\")\n",
    "        print(f\"Question: {answer['question']}\")\n",
    "        print(f\"Answer: {answer['output_answer']}\")"
   ]
  },
  {
   "cell_type": "code",
   "execution_count": 24,
   "id": "ac7c4c2d",
   "metadata": {},
   "outputs": [
    {
     "name": "stdout",
     "output_type": "stream",
     "text": [
      "Question Key: q1\n",
      "Question: Which city does Alice currently live in, and where was she born?\n",
      "Answer: Alice currently lives in New York and was born in Tokyo.\n",
      "Question Key: q2\n",
      "Question: Who once shared a house with Charlie in London, and where does that person work now?\n",
      "Answer: Diana once shared a house with Charlie in London, and she now works in London.\n"
     ]
    }
   ],
   "source": [
    "show_qa_results(answers)"
   ]
  },
  {
   "cell_type": "code",
   "execution_count": 25,
   "id": "b8c2a5f5",
   "metadata": {},
   "outputs": [
    {
     "name": "stdout",
     "output_type": "stream",
     "text": [
      "+++++++++++++++++++++++++++++++++++++++\n",
      "### Task\n",
      "\n",
      "You are given a question and a set of **context passages**, each possibly from a different document.\n",
      "\n",
      "Your task is to:\n",
      "\n",
      "1. **Answer the question** based on the information in the provided context passages.\n",
      "2. Provide a **confidence score** between 0.0 and 1.0, indicating how certain you are about your answer.\n",
      "\n",
      "### Guidelines\n",
      "\n",
      "- Base your answer **only on the given context passages** — do not use outside knowledge.\n",
      "- Provide a **single-sentence answer** (no line breaks).\n",
      "- The score should reflect your confidence in the correctness of your answer:\n",
      "  - **1.0** = absolutely certain  \n",
      "  - **0.0** = no idea  \n",
      "\n",
      "### Output Format\n",
      "\n",
      "Provide the output in the following format:\n",
      "\n",
      "Answer: [your answer]  \n",
      "Score: [score between 0.0 and 1.0]\n",
      "\n",
      "Example:\n",
      "\n",
      "Answer: Aspirin is used to treat pain, fever, and inflammation.  \n",
      "Score: 0.95\n",
      "\n",
      "### Context\n",
      "\n",
      "[1] The primary entities in this community are: alice, tokyo, new york : This community contains the following entities:\n",
      "- alice | Person | NO DESCRIPTION.\n",
      "- university of tokyo | Location | NO DESCRIPTION.\n",
      " - diana | Person | NO DESCRIPTION.\n",
      "- manhattan | Location | NO DESCRIPTION.\n",
      " - new york | Location | NO DESCRIPTION.\n",
      " - tokyo | Location | NO DESCRIPTION.\n",
      " The relationships between the entities are as follows:\n",
      "- alice | born_in | tokyo\n",
      "- alice | lives_in | new york\n",
      "- alice | works_at | manhattan\n",
      "- alice | studied_in | university of tokyo\n",
      "- alice | friends_with | diana \n",
      "\n",
      "[2] The primary entities in this community are: tokyo, alice, bob : This community contains the following entities:\n",
      "- tokyo | Location | NO DESCRIPTION.\n",
      " - bob | Person | NO DESCRIPTION.\n",
      " - alice | Person | NO DESCRIPTION.\n",
      " The relationships between the entities are as follows:\n",
      "- bob | lives_in | tokyo\n",
      "- alice | born_in | tokyo\n",
      "\n",
      "### Test Case\n",
      "\n",
      "Now, based on the context passages above, answer the following question and provide a confidence score.\n",
      "\n",
      "Question: Which city does Alice currently live in, and where was she born?\n",
      "\n",
      "Provide the output in the format specified above.\n",
      "\n",
      "================\n",
      "Answer: Alice currently lives in New York and was born in Tokyo.  \n",
      "Score: 1.0\n",
      "+++++++++++++++++++++++++++++++++++++++\n",
      "### Task\n",
      "\n",
      "You are given a question and a set of **context passages**, each possibly from a different document.\n",
      "\n",
      "Your task is to:\n",
      "\n",
      "1. **Answer the question** based on the information in the provided context passages.\n",
      "2. Provide a **confidence score** between 0.0 and 1.0, indicating how certain you are about your answer.\n",
      "\n",
      "### Guidelines\n",
      "\n",
      "- Base your answer **only on the given context passages** — do not use outside knowledge.\n",
      "- Provide a **single-sentence answer** (no line breaks).\n",
      "- The score should reflect your confidence in the correctness of your answer:\n",
      "  - **1.0** = absolutely certain  \n",
      "  - **0.0** = no idea  \n",
      "\n",
      "### Output Format\n",
      "\n",
      "Provide the output in the following format:\n",
      "\n",
      "Answer: [your answer]  \n",
      "Score: [score between 0.0 and 1.0]\n",
      "\n",
      "Example:\n",
      "\n",
      "Answer: Aspirin is used to treat pain, fever, and inflammation.  \n",
      "Score: 0.95\n",
      "\n",
      "### Context\n",
      "\n",
      "[1] The primary entities in this community are: diana, alice, charlie : This community contains the following entities:\n",
      "- diana | Person | NO DESCRIPTION.\n",
      "- charlie | Person | NO DESCRIPTION.\n",
      " - alice | Person | NO DESCRIPTION.\n",
      " - london | Location | NO DESCRIPTION.\n",
      "- sydney | Location | NO DESCRIPTION.\n",
      " The relationships between the entities are as follows:\n",
      "- diana | roommate_of | charlie\n",
      "- diana | works_at | london\n",
      "- diana | lives_in | sydney\n",
      "- alice | friends_with | diana \n",
      "\n",
      "[2] The primary entities in this community are: bob, university of tokyo, charlie : This community contains the following entities:\n",
      "- bob | Person | NO DESCRIPTION.\n",
      "- university of tokyo | Location | NO DESCRIPTION.\n",
      "- charlie | Person | NO DESCRIPTION.\n",
      " - tokyo | Location | NO DESCRIPTION.\n",
      " The relationships between the entities are as follows:\n",
      "- bob | lives_in | tokyo\n",
      "- bob | works_at | university of tokyo\n",
      "- charlie | roommate_of | bob\n",
      "\n",
      "### Test Case\n",
      "\n",
      "Now, based on the context passages above, answer the following question and provide a confidence score.\n",
      "\n",
      "Question: Who once shared a house with Charlie in London, and where does that person work now?\n",
      "\n",
      "Provide the output in the format specified above.\n",
      "\n",
      "================\n",
      "Answer: Diana once shared a house with Charlie in London, and she now works in London.  \n",
      "Score: 0.8\n"
     ]
    }
   ],
   "source": [
    "for a in answers:\n",
    "    print(\"+++++++++++++++++++++++++++++++++++++++\")\n",
    "    print(a[\"qa_prompt\"])\n",
    "    print(\"================\")\n",
    "    print(a[\"qa_generated_text\"])"
   ]
  },
  {
   "cell_type": "code",
   "execution_count": null,
   "id": "cac8b922",
   "metadata": {},
   "outputs": [],
   "source": []
  }
 ],
 "metadata": {
  "kernelspec": {
   "display_name": "Python 3 (ipykernel)",
   "language": "python",
   "name": "python3"
  },
  "language_info": {
   "codemirror_mode": {
    "name": "ipython",
    "version": 3
   },
   "file_extension": ".py",
   "mimetype": "text/x-python",
   "name": "python",
   "nbconvert_exporter": "python",
   "pygments_lexer": "ipython3",
   "version": "3.10.12"
  }
 },
 "nbformat": 4,
 "nbformat_minor": 5
}
